{
  "nbformat": 4,
  "nbformat_minor": 0,
  "metadata": {
    "colab": {
      "private_outputs": true,
      "provenance": [],
      "authorship_tag": "ABX9TyNK9NXV+ZUnmqZ7Yt7IIe0g",
      "include_colab_link": true
    },
    "kernelspec": {
      "name": "python3",
      "display_name": "Python 3"
    },
    "language_info": {
      "name": "python"
    }
  },
  "cells": [
    {
      "cell_type": "markdown",
      "metadata": {
        "id": "view-in-github",
        "colab_type": "text"
      },
      "source": [
        "<a href=\"https://colab.research.google.com/github/biomalls/AlgorithmsStudy/blob/Master/outfielder.ipynb\" target=\"_parent\"><img src=\"https://colab.research.google.com/assets/colab-badge.svg\" alt=\"Open In Colab\"/></a>"
      ]
    },
    {
      "cell_type": "markdown",
      "source": [
        "Outfielder problem : 분석적 해법 vs 알고리즘 해법\n",
        "\n",
        "$x=v_1t$,\n",
        "\n",
        "$y=v_2t+(at^2/2)$,\n",
        "\n",
        "$y=(v_2/v_1)x+(ax^2/2v_1^2)$\n",
        "\n"
      ],
      "metadata": {
        "id": "ftz40G_K7UM2"
      }
    },
    {
      "cell_type": "markdown",
      "source": [
        "구글 colab에서 시각화 라이브러리(matplotlib, seaborn)을 사용하게 되면 한글 깨짐 현상 해결방법.\n",
        "STEP 1. 나눔 폰트 설치 (Nanum)\n",
        "colab 파일을 연 뒤 첫번 째 cell에 아래 코드를 붙혀 넣고 실행합니다.\n",
        "\n",
        "!sudo apt-get install -y fonts-nanum\n",
        "!sudo fc-cache -fv\n",
        "!rm ~/.cache/matplotlib -rf\n",
        "\n",
        "STEP 2. 코랩(Colab)의 런타임을 재시작\n",
        "런타임 - 런타임 다시 시작 을 클릭하여 런타임을 재시작\n",
        "\n",
        "STEP 3. matplotlib의 폰트를 Nanum 폰트로 지정\n",
        "import matplotlib.pyplot as plt\n",
        "\n",
        "plt.rc('font', family='NanumBarunGothic')\n"
      ],
      "metadata": {
        "id": "UvgrsrjGHynt"
      }
    },
    {
      "cell_type": "code",
      "source": [
        "#한글 나눔폰트 설치. plt label 에 한글 표시하기 위해\n",
        "\n",
        "!sudo apt-get install -y fonts-nanum\n",
        "!sudo fc-cache -fv\n",
        "!rm ~/.cache/matplotlib -rf"
      ],
      "metadata": {
        "id": "YbA4EpTMCYN9"
      },
      "execution_count": null,
      "outputs": []
    },
    {
      "cell_type": "code",
      "source": [
        "# 공 궤적 구하는 함수: 초기 수평속도 0.99m/sec, 초기 수직속도 9.9m/sec\n",
        "\n",
        "def ball_trajectory(x):\n",
        "  location = 10*x -5*(x**2)\n",
        "  return(location)"
      ],
      "metadata": {
        "id": "f0v6sdYbBXvV"
      },
      "execution_count": null,
      "outputs": []
    },
    {
      "cell_type": "code",
      "execution_count": null,
      "metadata": {
        "id": "5G1BKjrU7HrA"
      },
      "outputs": [],
      "source": [
        "# 공을 던진 순간(x=0)\n",
        "# 공이 땅에 닫는 순간(y=0)\n",
        "# 사이의 공의 가상 궤적 그리기\n",
        "\n",
        "import matplotlib.pyplot as plt\n",
        "\n",
        "plt.rc('font', family='NanumBarunGothic') #나눔폰트로 지정\n",
        "\n",
        "xs = [x/100 for x in list(range (201))]\n",
        "ys =[ball_trajectory(x) for x in xs]\n",
        "plt.plot(xs,ys)\n",
        "plt.title(\"던진 공의 궤적\")\n",
        "plt.xlabel('공의 수평위치')\n",
        "plt.ylabel('공의 수직위치')\n",
        "plt.axhline(y = 0) # creates a horizontal line at the y-axis value of 0\n",
        "plt.show()"
      ]
    }
  ]
}